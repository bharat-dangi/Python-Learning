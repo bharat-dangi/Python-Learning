{
 "cells": [
  {
   "cell_type": "code",
   "execution_count": 3,
   "id": "823af8ae-c1ad-4dc9-94b8-95f4e20fda0e",
   "metadata": {},
   "outputs": [],
   "source": [
    "# Variable Assignment\n",
    "a=5"
   ]
  },
  {
   "cell_type": "code",
   "execution_count": 4,
   "id": "8af70f67-f1d4-4b59-8a7c-3037f35e3c46",
   "metadata": {},
   "outputs": [
    {
     "data": {
      "text/plain": [
       "5"
      ]
     },
     "execution_count": 4,
     "metadata": {},
     "output_type": "execute_result"
    }
   ],
   "source": [
    "a"
   ]
  },
  {
   "cell_type": "code",
   "execution_count": 5,
   "id": "6a0b48c1-69ea-44f2-9e9f-8157773df64d",
   "metadata": {},
   "outputs": [
    {
     "data": {
      "text/plain": [
       "10"
      ]
     },
     "execution_count": 5,
     "metadata": {},
     "output_type": "execute_result"
    }
   ],
   "source": [
    "a+a"
   ]
  },
  {
   "cell_type": "code",
   "execution_count": 6,
   "id": "3a9a6b77-bc78-4dd6-ad20-76bc5678feea",
   "metadata": {},
   "outputs": [
    {
     "data": {
      "text/plain": [
       "5"
      ]
     },
     "execution_count": 6,
     "metadata": {},
     "output_type": "execute_result"
    }
   ],
   "source": [
    "a"
   ]
  },
  {
   "cell_type": "code",
   "execution_count": 7,
   "id": "4b004694-b295-46a1-8a89-720b901da7da",
   "metadata": {},
   "outputs": [],
   "source": [
    "# Type of variable"
   ]
  },
  {
   "cell_type": "code",
   "execution_count": 8,
   "id": "01a936d6-e753-4c66-b21f-bcdee31afa7d",
   "metadata": {},
   "outputs": [
    {
     "data": {
      "text/plain": [
       "int"
      ]
     },
     "execution_count": 8,
     "metadata": {},
     "output_type": "execute_result"
    }
   ],
   "source": [
    "type(a)"
   ]
  },
  {
   "cell_type": "code",
   "execution_count": 9,
   "id": "ed1c2050-9c55-48af-8d36-a6396957c9f7",
   "metadata": {},
   "outputs": [],
   "source": [
    "a=5.1"
   ]
  },
  {
   "cell_type": "code",
   "execution_count": 10,
   "id": "7f1013f6-80b7-4d31-8042-cd12f4a2e4c0",
   "metadata": {},
   "outputs": [
    {
     "data": {
      "text/plain": [
       "float"
      ]
     },
     "execution_count": 10,
     "metadata": {},
     "output_type": "execute_result"
    }
   ],
   "source": [
    "type(a)"
   ]
  },
  {
   "cell_type": "code",
   "execution_count": null,
   "id": "c4648b3e-ff63-4a92-b2ad-1d574ab83fcf",
   "metadata": {},
   "outputs": [],
   "source": []
  }
 ],
 "metadata": {
  "kernelspec": {
   "display_name": "Python 3 (ipykernel)",
   "language": "python",
   "name": "python3"
  },
  "language_info": {
   "codemirror_mode": {
    "name": "ipython",
    "version": 3
   },
   "file_extension": ".py",
   "mimetype": "text/x-python",
   "name": "python",
   "nbconvert_exporter": "python",
   "pygments_lexer": "ipython3",
   "version": "3.11.7"
  }
 },
 "nbformat": 4,
 "nbformat_minor": 5
}
